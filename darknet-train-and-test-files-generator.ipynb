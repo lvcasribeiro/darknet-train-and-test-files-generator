{
 "cells": [
  {
   "cell_type": "markdown",
   "id": "7f4a3866",
   "metadata": {},
   "source": [
    "### Importação de bibliotecas:"
   ]
  },
  {
   "cell_type": "code",
   "execution_count": 1,
   "id": "3dee7e78",
   "metadata": {},
   "outputs": [],
   "source": [
    "# Importação de bibliotecas:\n",
    "import os"
   ]
  },
  {
   "cell_type": "markdown",
   "id": "a62dea4e",
   "metadata": {},
   "source": [
    "### Segmentando o dataset em teste e treino:"
   ]
  },
  {
   "cell_type": "code",
   "execution_count": 7,
   "id": "51fe1f61",
   "metadata": {},
   "outputs": [],
   "source": [
    "arquivos_txt = os.listdir(r'dataset');\n",
    "arquivos_jpg = [];\n",
    "arquivos_path = [];\n",
    "\n",
    "caminho = '/content/dataset/';\n",
    "\n",
    "# Capturando os arquivos com label em formato \".txt\":\n",
    "for i in range(len(arquivos_txt)):\n",
    "    if(arquivos_txt[i][-3:] == 'txt'):\n",
    "        # print(arquivos_txt[i]);\n",
    "        arquivos_jpg.append(f'{arquivos_txt[i][0:9]}JPG');\n",
    "\n",
    "# for j in range(len(arquivos_jpg)):\n",
    "#     print(arquivos_jpg[j]);\n",
    "\n",
    "for k in range(len(arquivos_jpg)):\n",
    "    arquivos_path.append(f'{caminho}' + f'{arquivos_jpg[k]}');\n",
    "    # print(arquivos_path[k]);"
   ]
  },
  {
   "cell_type": "markdown",
   "id": "ee30bf53",
   "metadata": {},
   "source": [
    "### Segmentando 20% para teste:"
   ]
  },
  {
   "cell_type": "code",
   "execution_count": 8,
   "id": "5003da82",
   "metadata": {},
   "outputs": [
    {
     "name": "stdout",
     "output_type": "stream",
     "text": [
      "[!] - Arquivos para teste:\n",
      "\n",
      "/content/dataset/DJI_0529.JPG\n"
     ]
    }
   ],
   "source": [
    "# Separando 20% para teste e 80% para treino:\n",
    "limite_teste = int(len(arquivos_path) * .2);\n",
    "\n",
    "print('[!] - Arquivos para teste:\\n');\n",
    "for l in range(limite_teste):\n",
    "    print(arquivos_path[l]);\n",
    "\n",
    "    # Escrevendo o arquivo teste.txt:\n",
    "    with open('teste.txt', 'a') as arquivo:\n",
    "        arquivo.write(f'{arquivos_path[l]}\\n');"
   ]
  },
  {
   "cell_type": "markdown",
   "id": "eafde66f",
   "metadata": {},
   "source": [
    "### Segmentando 80% para treino:"
   ]
  },
  {
   "cell_type": "code",
   "execution_count": 9,
   "id": "6f367c28",
   "metadata": {},
   "outputs": [
    {
     "name": "stdout",
     "output_type": "stream",
     "text": [
      "[!] - Arquivos para treino:\n",
      "\n",
      "/content/dataset/DJI_0531.JPG\n",
      "/content/dataset/DJI_0533.JPG\n",
      "/content/dataset/DJI_0535.JPG\n",
      "/content/dataset/DJI_0537.JPG\n",
      "/content/dataset/DJI_0539.JPG\n",
      "/content/dataset/DJI_0541.JPG\n",
      "/content/dataset/DJI_0543.JPG\n"
     ]
    }
   ],
   "source": [
    "m = limite_teste;\n",
    "\n",
    "print('[!] - Arquivos para treino:\\n');\n",
    "while m < len(arquivos_path):\n",
    "    print(arquivos_path[m]);\n",
    "\n",
    "    # Escrevendo o arquivo treino.txt:\n",
    "    with open('treino.txt', 'a') as arquivo:\n",
    "        arquivo.write(f'{arquivos_path[m]}\\n');\n",
    "\n",
    "    m += 1;"
   ]
  }
 ],
 "metadata": {
  "kernelspec": {
   "display_name": "Python 3 (ipykernel)",
   "language": "python",
   "name": "python3"
  },
  "language_info": {
   "codemirror_mode": {
    "name": "ipython",
    "version": 3
   },
   "file_extension": ".py",
   "mimetype": "text/x-python",
   "name": "python",
   "nbconvert_exporter": "python",
   "pygments_lexer": "ipython3",
   "version": "3.9.13"
  }
 },
 "nbformat": 4,
 "nbformat_minor": 5
}
